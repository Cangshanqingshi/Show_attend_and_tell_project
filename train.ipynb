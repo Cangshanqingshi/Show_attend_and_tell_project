{
 "cells": [
  {
   "cell_type": "code",
   "execution_count": 1,
   "metadata": {},
   "outputs": [
    {
     "name": "stdout",
     "output_type": "stream",
     "text": [
      "loading annotations into memory...\n",
      "Done (t=1.14s)\n",
      "creating index...\n",
      "index created!\n",
      "[0/591753] 正在读取captions并根据其分词建立词典...\n",
      "[100000/591753] 正在读取captions并根据其分词建立词典...\n",
      "[200000/591753] 正在读取captions并根据其分词建立词典...\n",
      "[300000/591753] 正在读取captions并根据其分词建立词典...\n",
      "[400000/591753] 正在读取captions并根据其分词建立词典...\n",
      "[500000/591753] 正在读取captions并根据其分词建立词典...\n",
      "初始化vocab.pkl文件成功\n",
      "loading annotations into memory...\n",
      "Done (t=1.11s)\n",
      "creating index...\n",
      "index created!\n",
      "正在对caption分词...\n"
     ]
    },
    {
     "name": "stderr",
     "output_type": "stream",
     "text": [
      "100%|████████████████████████████████████████████████████████████████████████| 591753/591753 [01:01<00:00, 9637.36it/s]\n"
     ]
    }
   ],
   "source": [
    "import torch\n",
    "import torch.nn as nn\n",
    "from torchvision import transforms\n",
    "import sys\n",
    "COCOAPIROOT = r\"D:\\学习资料\\实验室\"\n",
    "from pycocotools.coco import COCO\n",
    "from raw_program.data_loader import get_loader\n",
    "from raw_program.models import EncoderCNN, DecoderWithAttention\n",
    "import math\n",
    "\n",
    "\n",
    "# 选取合适参数\n",
    "batch_size = 1          # batch size\n",
    "vocab_threshold = 5        # minimum word count threshold\n",
    "vocab_from_file = False    # if True, load existing vocab file\n",
    "embed_size = 512           # dimensionality of image and word embeddings\n",
    "hidden_size = 512          # number of features in hidden state of the RNN decoder\n",
    "num_epochs = 3             # number of training epochs\n",
    "save_every = 1             # determines frequency of saving model weights\n",
    "print_every = 100          # determines window for printing average loss\n",
    "log_file = 'training_log.txt'       # name of file with saved training loss and perplexity\n",
    "attention_dim = 512\n",
    "embed_dim = embed_size\n",
    "decoder_dim = 512 \n",
    "\n",
    "# 建立transforms\n",
    "transform_train = transforms.Compose([ \n",
    "    transforms.Resize(256),                          # smaller edge of image resized to 256\n",
    "    transforms.RandomCrop(224),                      # get 224x224 crop from random location\n",
    "    transforms.RandomHorizontalFlip(),               # horizontally flip image with probability=0.5\n",
    "    transforms.ToTensor(),                           # convert the PIL Image to a tensor\n",
    "    transforms.Normalize((0.485, 0.456, 0.406),      # normalize image for pre-trained model\n",
    "                         (0.229, 0.224, 0.225))])\n",
    "\n",
    "# 建立dataloader\n",
    "data_loader = get_loader(transform=transform_train,\n",
    "                         mode='train',\n",
    "                         batch_size=batch_size,\n",
    "                         vocab_threshold=vocab_threshold,\n",
    "                         vocab_from_file=vocab_from_file,\n",
    "                         cocoapi_loc=COCOAPIROOT)"
   ]
  },
  {
   "cell_type": "code",
   "execution_count": 2,
   "metadata": {},
   "outputs": [
    {
     "name": "stderr",
     "output_type": "stream",
     "text": [
      "D:\\python\\anaconda\\envs\\PyTorch\\lib\\site-packages\\torchvision\\models\\_utils.py:208: UserWarning: The parameter 'pretrained' is deprecated since 0.13 and will be removed in 0.15, please use 'weights' instead.\n",
      "  warnings.warn(\n",
      "D:\\python\\anaconda\\envs\\PyTorch\\lib\\site-packages\\torchvision\\models\\_utils.py:223: UserWarning: Arguments other than a weight enum or `None` for 'weights' are deprecated since 0.13 and will be removed in 0.15. The current behavior is equivalent to passing `weights=ResNet50_Weights.IMAGENET1K_V1`. You can also use `weights=ResNet50_Weights.DEFAULT` to get the most up-to-date weights.\n",
      "  warnings.warn(msg)\n"
     ]
    }
   ],
   "source": [
    "# 定义词典大小\n",
    "vocab_size = len(data_loader.dataset.vocab)\n",
    "\n",
    "# 初始化encoder和decoder \n",
    "encoder = EncoderCNN(embed_size)\n",
    "decoder = DecoderWithAttention(attention_dim, embed_dim, decoder_dim, vocab_size)\n",
    "\n",
    "# 把模型移动到GPU中\n",
    "device = torch.device(\"cuda\" if torch.cuda.is_available() else \"cpu\")\n",
    "encoder.to(device)\n",
    "decoder.to(device)\n",
    "\n",
    "# 定义损失函数\n",
    "criterion = nn.CrossEntropyLoss().cuda() if torch.cuda.is_available() else nn.CrossEntropyLoss()\n",
    "\n",
    "# 把可学习的参数建立一个列表\n",
    "params = list(decoder.parameters())\n",
    "\n",
    "# 选定优化器\n",
    "optimizer = torch.optim.Adam(params, lr=0.001)\n",
    "\n",
    "# 设置每一个epoch训练多少步\n",
    "total_step = math.ceil(len(data_loader.dataset.caption_lengths) / data_loader.batch_sampler.batch_size)"
   ]
  },
  {
   "cell_type": "code",
   "execution_count": 3,
   "metadata": {},
   "outputs": [
    {
     "data": {
      "text/plain": [
       "<All keys matched successfully>"
      ]
     },
     "execution_count": 3,
     "metadata": {},
     "output_type": "execute_result"
    }
   ],
   "source": [
    "# Check model save/load\n",
    "import os\n",
    "\n",
    "# Save\n",
    "torch.save(decoder.state_dict(), os.path.join('./models', 'decoder-0.pkl'))\n",
    "torch.save(encoder.state_dict(), os.path.join('./models', 'encoder-0.pkl'))\n",
    "# Load\n",
    "decoder_file = 'decoder-0.pkl'\n",
    "encoder_file = 'encoder-0.pkl'\n",
    "encoder.load_state_dict(torch.load(os.path.join('./models', encoder_file),  map_location='cpu'))\n",
    "decoder.load_state_dict(torch.load(os.path.join('./models', decoder_file),  map_location='cpu'))"
   ]
  },
  {
   "cell_type": "code",
   "execution_count": 4,
   "metadata": {},
   "outputs": [
    {
     "ename": "RuntimeError",
     "evalue": "CUDA out of memory. Tried to allocate 2.00 GiB (GPU 0; 6.00 GiB total capacity; 2.17 GiB already allocated; 1.96 GiB free; 2.20 GiB reserved in total by PyTorch) If reserved memory is >> allocated memory try setting max_split_size_mb to avoid fragmentation.  See documentation for Memory Management and PYTORCH_CUDA_ALLOC_CONF",
     "output_type": "error",
     "traceback": [
      "\u001b[1;31m---------------------------------------------------------------------------\u001b[0m",
      "\u001b[1;31mRuntimeError\u001b[0m                              Traceback (most recent call last)",
      "Input \u001b[1;32mIn [4]\u001b[0m, in \u001b[0;36m<cell line: 18>\u001b[1;34m()\u001b[0m\n\u001b[0;32m     46\u001b[0m \u001b[38;5;28;01mwith\u001b[39;00m torch\u001b[38;5;241m.\u001b[39mno_grad():\n\u001b[0;32m     47\u001b[0m     features \u001b[38;5;241m=\u001b[39m encoder(images)\n\u001b[1;32m---> 48\u001b[0m     outputs \u001b[38;5;241m=\u001b[39m \u001b[43mdecoder\u001b[49m\u001b[43m(\u001b[49m\u001b[43mfeatures\u001b[49m\u001b[43m,\u001b[49m\u001b[43m \u001b[49m\u001b[43mcaptions\u001b[49m\u001b[43m,\u001b[49m\u001b[43m \u001b[49m\u001b[43mcaption_lengths_2\u001b[49m\u001b[43m)\u001b[49m[\u001b[38;5;241m0\u001b[39m]\n\u001b[0;32m     49\u001b[0m \u001b[38;5;66;03m# 计算损失函数\u001b[39;00m\n\u001b[0;32m     50\u001b[0m loss \u001b[38;5;241m=\u001b[39m criterion(outputs\u001b[38;5;241m.\u001b[39mview(\u001b[38;5;241m-\u001b[39m\u001b[38;5;241m1\u001b[39m, vocab_size), captions\u001b[38;5;241m.\u001b[39mview(\u001b[38;5;241m-\u001b[39m\u001b[38;5;241m1\u001b[39m))\n",
      "File \u001b[1;32mD:\\python\\anaconda\\envs\\PyTorch\\lib\\site-packages\\torch\\nn\\modules\\module.py:1130\u001b[0m, in \u001b[0;36mModule._call_impl\u001b[1;34m(self, *input, **kwargs)\u001b[0m\n\u001b[0;32m   1126\u001b[0m \u001b[38;5;66;03m# If we don't have any hooks, we want to skip the rest of the logic in\u001b[39;00m\n\u001b[0;32m   1127\u001b[0m \u001b[38;5;66;03m# this function, and just call forward.\u001b[39;00m\n\u001b[0;32m   1128\u001b[0m \u001b[38;5;28;01mif\u001b[39;00m \u001b[38;5;129;01mnot\u001b[39;00m (\u001b[38;5;28mself\u001b[39m\u001b[38;5;241m.\u001b[39m_backward_hooks \u001b[38;5;129;01mor\u001b[39;00m \u001b[38;5;28mself\u001b[39m\u001b[38;5;241m.\u001b[39m_forward_hooks \u001b[38;5;129;01mor\u001b[39;00m \u001b[38;5;28mself\u001b[39m\u001b[38;5;241m.\u001b[39m_forward_pre_hooks \u001b[38;5;129;01mor\u001b[39;00m _global_backward_hooks\n\u001b[0;32m   1129\u001b[0m         \u001b[38;5;129;01mor\u001b[39;00m _global_forward_hooks \u001b[38;5;129;01mor\u001b[39;00m _global_forward_pre_hooks):\n\u001b[1;32m-> 1130\u001b[0m     \u001b[38;5;28;01mreturn\u001b[39;00m \u001b[43mforward_call\u001b[49m\u001b[43m(\u001b[49m\u001b[38;5;241;43m*\u001b[39;49m\u001b[38;5;28;43minput\u001b[39;49m\u001b[43m,\u001b[49m\u001b[43m \u001b[49m\u001b[38;5;241;43m*\u001b[39;49m\u001b[38;5;241;43m*\u001b[39;49m\u001b[43mkwargs\u001b[49m\u001b[43m)\u001b[49m\n\u001b[0;32m   1131\u001b[0m \u001b[38;5;66;03m# Do not call functions when jit is used\u001b[39;00m\n\u001b[0;32m   1132\u001b[0m full_backward_hooks, non_full_backward_hooks \u001b[38;5;241m=\u001b[39m [], []\n",
      "File \u001b[1;32mD:\\学习资料\\实验室\\show_attention_and_tell_repeat\\raw_program\\models.py:181\u001b[0m, in \u001b[0;36mDecoderWithAttention.forward\u001b[1;34m(self, encoder_out, encoded_captions, caption_lengths)\u001b[0m\n\u001b[0;32m    179\u001b[0m \u001b[38;5;66;03m# Sort input data by decreasing lengths; why? apparent below\u001b[39;00m\n\u001b[0;32m    180\u001b[0m caption_lengths, sort_ind \u001b[38;5;241m=\u001b[39m caption_lengths\u001b[38;5;241m.\u001b[39msqueeze(\u001b[38;5;241m1\u001b[39m)\u001b[38;5;241m.\u001b[39msort(dim\u001b[38;5;241m=\u001b[39m\u001b[38;5;241m0\u001b[39m, descending\u001b[38;5;241m=\u001b[39m\u001b[38;5;28;01mTrue\u001b[39;00m)\n\u001b[1;32m--> 181\u001b[0m encoder_out \u001b[38;5;241m=\u001b[39m \u001b[43mencoder_out\u001b[49m\u001b[43m[\u001b[49m\u001b[43msort_ind\u001b[49m\u001b[43m]\u001b[49m\n\u001b[0;32m    182\u001b[0m encoded_captions \u001b[38;5;241m=\u001b[39m encoded_captions[sort_ind]\n\u001b[0;32m    184\u001b[0m \u001b[38;5;66;03m# Embedding\u001b[39;00m\n",
      "\u001b[1;31mRuntimeError\u001b[0m: CUDA out of memory. Tried to allocate 2.00 GiB (GPU 0; 6.00 GiB total capacity; 2.17 GiB already allocated; 1.96 GiB free; 2.20 GiB reserved in total by PyTorch) If reserved memory is >> allocated memory try setting max_split_size_mb to avoid fragmentation.  See documentation for Memory Management and PYTORCH_CUDA_ALLOC_CONF"
     ]
    }
   ],
   "source": [
    "import torch.utils.data as data\n",
    "import numpy as np\n",
    "\n",
    "import requests\n",
    "import time\n",
    "import torch, gc\n",
    "\n",
    "\n",
    "# Open the training log file.\n",
    "f = open(log_file, 'w')\n",
    "# Select True if training on local desktop. False to train on GPU workspace\n",
    "local = False\n",
    "# if not local:\n",
    "start_time = time.time()\n",
    "#     response = requests.request(\"GET\", \n",
    "#                                 \"http://metadata.google.internal/computeMetadata/v1/instance/attributes/keep_alive_token\", \n",
    "#                                 headers={\"Metadata-Flavor\":\"Google\"})\n",
    "for epoch in range(1, num_epochs+1):\n",
    "    for i_step in range(1, total_step+1):\n",
    "#         if not local:\n",
    "#             if time.time() - old_time > 60:\n",
    "#                 old_time = time.time()\n",
    "#                 requests.request(\"POST\", \n",
    "#                                  \"https://nebula.udacity.com/api/v1/remote/keep-alive\", \n",
    "#                                  headers={'Authorization': \"STAR \" + response.text})\n",
    "        # 随机从caption_length中采样返回对应索引\n",
    "        indices = data_loader.dataset.get_train_indices()\n",
    "        # 创建一个样本\n",
    "        new_sampler = data.sampler.SubsetRandomSampler(indices=indices)\n",
    "        data_loader.batch_sampler.sampler = new_sampler\n",
    "        # 获取这批数据\n",
    "        images, captions = next(iter(data_loader))\n",
    "        # 将数据移到GPU中\n",
    "        images = images.to(device)\n",
    "        captions = captions.to(device)\n",
    "        caption_lengths_2 = torch.full((batch_size, 1), len(captions[0]))\n",
    "        caption_lengths_2 = caption_lengths_2.to(device)\n",
    "        # 将梯度归零\n",
    "        decoder.zero_grad()\n",
    "        encoder.zero_grad()\n",
    "        \n",
    "       \n",
    "        gc.collect()\n",
    "        torch.cuda.empty_cache()\n",
    "        # 将输入传到encoder和decoder中\n",
    "        with torch.no_grad():\n",
    "            features = encoder(images)\n",
    "            outputs = decoder(features, captions, caption_lengths_2)[0]\n",
    "        \n",
    "        # 计算损失函数\n",
    "        loss = criterion(outputs.view(-1, vocab_size), captions.view(-1))\n",
    "        # 反向传播\n",
    "        loss.backward()\n",
    "        # 更新优化器参数\n",
    "        optimizer.step()\n",
    "        # 获取训练的统计数据\n",
    "        stats = 'Epoch [%d/%d], Step [%d/%d], Loss: %.4f, Perplexity: %5.4f' % (epoch, num_epochs, i_step, total_step, loss.item(), np.exp(loss.item()))\n",
    "        # 打印训练数据(同一行中)\n",
    "        print('\\r' + stats, end=\"\")\n",
    "        sys.stdout.flush()\n",
    "        # 将数据存到文件中\n",
    "        f.write(stats + '\\n')\n",
    "        f.flush()\n",
    "        # 打印训练数据(换行)\n",
    "        if i_step % print_every == 0:\n",
    "            print('\\r' + stats)\n",
    "\n",
    "    # 保存权重\n",
    "    if epoch % save_every == 0:\n",
    "        torch.save(decoder.state_dict(), os.path.join('./models', 'decoder-%d.pkl' % epoch))\n",
    "        torch.save(encoder.state_dict(), os.path.join('./models', 'encoder-%d.pkl' % epoch))\n",
    "\n",
    "# 关闭log文件\n",
    "f.close()\n",
    "end_time = time.time()\n",
    "print(\"本次训练时长：{}\".format(end_time-start_time))"
   ]
  },
  {
   "cell_type": "code",
   "execution_count": null,
   "metadata": {},
   "outputs": [],
   "source": [
    "len(data_loader.dataset.caption_lengths)"
   ]
  },
  {
   "cell_type": "code",
   "execution_count": null,
   "metadata": {},
   "outputs": [],
   "source": [
    "caption_lengths_2"
   ]
  },
  {
   "cell_type": "code",
   "execution_count": null,
   "metadata": {},
   "outputs": [],
   "source": [
    "captions"
   ]
  },
  {
   "cell_type": "code",
   "execution_count": null,
   "metadata": {},
   "outputs": [],
   "source": []
  }
 ],
 "metadata": {
  "kernelspec": {
   "display_name": "PyTorch",
   "language": "python",
   "name": "pytorch"
  },
  "language_info": {
   "codemirror_mode": {
    "name": "ipython",
    "version": 3
   },
   "file_extension": ".py",
   "mimetype": "text/x-python",
   "name": "python",
   "nbconvert_exporter": "python",
   "pygments_lexer": "ipython3",
   "version": "3.8.12"
  }
 },
 "nbformat": 4,
 "nbformat_minor": 2
}
